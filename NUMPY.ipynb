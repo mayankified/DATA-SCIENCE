{
 "cells": [
  {
   "cell_type": "code",
   "execution_count": 11,
   "id": "f0f13e56-5150-4643-9ad3-519c36d66d0b",
   "metadata": {},
   "outputs": [],
   "source": [
    "import numpy as np"
   ]
  },
  {
   "cell_type": "markdown",
   "id": "219e1d41-03c7-402d-9eef-67e71ad5f6ef",
   "metadata": {
    "jp-MarkdownHeadingCollapsed": true
   },
   "source": [
    "## Reshape"
   ]
  },
  {
   "cell_type": "code",
   "execution_count": 9,
   "id": "a234e455-4d45-487c-9e5f-737cf9a23272",
   "metadata": {},
   "outputs": [],
   "source": [
    "arr=np.array([1,2,3,4,5,6,7,8,9,10,11,12])\n",
    "newarr=arr.reshape(3,2,2)"
   ]
  },
  {
   "cell_type": "code",
   "execution_count": 12,
   "id": "191ebd1e-2ad8-4b8b-8b24-b76841c94bd0",
   "metadata": {},
   "outputs": [
    {
     "name": "stdout",
     "output_type": "stream",
     "text": [
      "[ 1  2  3  4  5  6  7  8  9 10 11 12]\n",
      "[[[ 1  2]\n",
      "  [ 3  4]]\n",
      "\n",
      " [[ 5  6]\n",
      "  [ 7  8]]\n",
      "\n",
      " [[ 9 10]\n",
      "  [11 12]]]\n"
     ]
    }
   ],
   "source": [
    "print(arr)\n",
    "print(newarr)"
   ]
  },
  {
   "cell_type": "markdown",
   "id": "90b40b85-484f-456f-917e-6d75d1a9acdd",
   "metadata": {
    "jp-MarkdownHeadingCollapsed": true
   },
   "source": [
    "## Flattening [reshape(-1)]"
   ]
  },
  {
   "cell_type": "code",
   "execution_count": 14,
   "id": "fc3a8513-0083-4d22-bcc4-32387fbf237a",
   "metadata": {},
   "outputs": [
    {
     "name": "stdout",
     "output_type": "stream",
     "text": [
      "[ 1  2  3  4  5  6  7  8  9 10 11 12]\n"
     ]
    }
   ],
   "source": [
    "thirdarr=newarr.reshape(-1)\n",
    "print(thirdarr)"
   ]
  },
  {
   "cell_type": "markdown",
   "id": "d50ae76c-5f43-4923-8c03-810804bb59f8",
   "metadata": {
    "jp-MarkdownHeadingCollapsed": true
   },
   "source": [
    "## INdexing"
   ]
  },
  {
   "cell_type": "code",
   "execution_count": 15,
   "id": "5a669ab2-28b2-43d5-9e6c-2d7ccec66514",
   "metadata": {},
   "outputs": [],
   "source": [
    "arr=np.array([1,2,3,4,5])"
   ]
  },
  {
   "cell_type": "code",
   "execution_count": 16,
   "id": "c4cd966f-178d-4f83-8fb1-12d16c242ac0",
   "metadata": {},
   "outputs": [
    {
     "name": "stdout",
     "output_type": "stream",
     "text": [
      "3\n"
     ]
    }
   ],
   "source": [
    "print(arr[2])"
   ]
  },
  {
   "cell_type": "code",
   "execution_count": 21,
   "id": "a8aa5fab-c860-4989-b556-41a9a581fe3b",
   "metadata": {},
   "outputs": [],
   "source": [
    "arr=np.array([[1,2,3,4],[5,6,7,8],[1,2,3,4],[5,6,7,8]])"
   ]
  },
  {
   "cell_type": "code",
   "execution_count": 22,
   "id": "778f73db-3f6f-4329-b730-8db0c159d83b",
   "metadata": {},
   "outputs": [
    {
     "name": "stdout",
     "output_type": "stream",
     "text": [
      "8\n"
     ]
    }
   ],
   "source": [
    "print(arr[1,3])"
   ]
  },
  {
   "cell_type": "code",
   "execution_count": 23,
   "id": "6aa7ddb5-1177-4adc-9eda-8f0c161e6d06",
   "metadata": {},
   "outputs": [],
   "source": [
    "arr=np.array([[[1,2,3,4],[5,6,7,8]],[[1,2,3,4],[5,6,7,8]]])"
   ]
  },
  {
   "cell_type": "code",
   "execution_count": 24,
   "id": "243b3ca5-de69-4a3c-a0d5-287ebad3d035",
   "metadata": {},
   "outputs": [
    {
     "name": "stdout",
     "output_type": "stream",
     "text": [
      "6\n"
     ]
    }
   ],
   "source": [
    "print(arr[0,1,1])"
   ]
  },
  {
   "cell_type": "markdown",
   "id": "8e738912-0118-42b7-af8d-15c32a291066",
   "metadata": {},
   "source": [
    "### bahar se andar jana hai"
   ]
  },
  {
   "cell_type": "code",
   "execution_count": 32,
   "id": "22571169-84c9-4e12-96bb-f179874a88e9",
   "metadata": {},
   "outputs": [
    {
     "data": {
      "text/plain": [
       "array([[[1, 2, 3, 4],\n",
       "        [5, 6, 7, 8]],\n",
       "\n",
       "       [[1, 2, 3, 4],\n",
       "        [5, 6, 7, 8]]])"
      ]
     },
     "execution_count": 32,
     "metadata": {},
     "output_type": "execute_result"
    }
   ],
   "source": [
    "arr"
   ]
  },
  {
   "cell_type": "code",
   "execution_count": 34,
   "id": "56726999-1dc2-4a50-8006-e0a6ce31d9a7",
   "metadata": {},
   "outputs": [
    {
     "data": {
      "text/plain": [
       "6"
      ]
     },
     "execution_count": 34,
     "metadata": {},
     "output_type": "execute_result"
    }
   ],
   "source": [
    "arr[0,1,1] "
   ]
  },
  {
   "cell_type": "code",
   "execution_count": 36,
   "id": "6c73c625-cfb0-4e95-901f-1ab056eef9a7",
   "metadata": {},
   "outputs": [
    {
     "name": "stdout",
     "output_type": "stream",
     "text": [
      "1\n",
      "2\n",
      "3\n",
      "4\n",
      "5\n",
      "6\n",
      "7\n",
      "8\n",
      "9\n",
      "10\n",
      "11\n",
      "12\n"
     ]
    }
   ],
   "source": [
    "arr=np.array([1,2,3,4,5,6,7,8,9,10,11,12])\n",
    "\n",
    "for x in arr: print(x)"
   ]
  },
  {
   "cell_type": "code",
   "execution_count": 46,
   "id": "73f65ab1-f98c-48a4-a513-42bb9f801dbd",
   "metadata": {},
   "outputs": [],
   "source": [
    "arr=arr.reshape(4,3)"
   ]
  },
  {
   "cell_type": "code",
   "execution_count": 47,
   "id": "eb8b3d97-3e56-4f3a-b24c-2bd80351cde2",
   "metadata": {},
   "outputs": [
    {
     "data": {
      "text/plain": [
       "array([[ 1,  2,  3],\n",
       "       [ 4,  5,  6],\n",
       "       [ 7,  8,  9],\n",
       "       [10, 11, 12]])"
      ]
     },
     "execution_count": 47,
     "metadata": {},
     "output_type": "execute_result"
    }
   ],
   "source": [
    "arr"
   ]
  },
  {
   "cell_type": "code",
   "execution_count": 48,
   "id": "9280388b-c459-49cc-873c-a9f7d1f5c705",
   "metadata": {},
   "outputs": [
    {
     "name": "stdout",
     "output_type": "stream",
     "text": [
      "[1 2 3]\n",
      "[4 5 6]\n",
      "[7 8 9]\n",
      "[10 11 12]\n"
     ]
    }
   ],
   "source": [
    "for x in arr: print(x)"
   ]
  },
  {
   "cell_type": "code",
   "execution_count": 53,
   "id": "5b36949f-cea8-4cbb-8843-8269a4f04712",
   "metadata": {},
   "outputs": [
    {
     "name": "stdout",
     "output_type": "stream",
     "text": [
      "[1 2 3]\n",
      "[1 2 3]\n",
      "[1 2 3]\n",
      "[4 5 6]\n",
      "[4 5 6]\n",
      "[4 5 6]\n",
      "[7 8 9]\n",
      "[7 8 9]\n",
      "[7 8 9]\n",
      "[10 11 12]\n",
      "[10 11 12]\n",
      "[10 11 12]\n"
     ]
    }
   ],
   "source": [
    "for x in arr:\n",
    "    for y in x:print(y)"
   ]
  },
  {
   "cell_type": "markdown",
   "id": "c70d3559-1b39-4513-b2e6-1d3ffa943fc3",
   "metadata": {},
   "source": [
    "## SLicing [start,end(length),step(1)]\n",
    "#### end me last wala index is excluded"
   ]
  },
  {
   "cell_type": "code",
   "execution_count": 54,
   "id": "8a62b8a4-efba-47e1-a729-4a1fb01dcfda",
   "metadata": {},
   "outputs": [],
   "source": [
    "arr=np.array([1,2,3,4,5,6,7,8,9,10,11,12])"
   ]
  },
  {
   "cell_type": "code",
   "execution_count": 59,
   "id": "6c11ca96-5c5c-45e7-a406-758ffd7fb2e7",
   "metadata": {},
   "outputs": [
    {
     "data": {
      "text/plain": [
       "array([3, 4, 5])"
      ]
     },
     "execution_count": 59,
     "metadata": {},
     "output_type": "execute_result"
    }
   ],
   "source": [
    "arr[2:5]"
   ]
  },
  {
   "cell_type": "code",
   "execution_count": 73,
   "id": "767bf636-3e88-403c-95f5-3be30dba2991",
   "metadata": {},
   "outputs": [
    {
     "data": {
      "text/plain": [
       "array([ 2,  4,  6,  8, 10, 12])"
      ]
     },
     "execution_count": 73,
     "metadata": {},
     "output_type": "execute_result"
    }
   ],
   "source": [
    "arr[1::2]"
   ]
  },
  {
   "cell_type": "code",
   "execution_count": 76,
   "id": "0592995d-f19f-4517-a60e-f318fdbf4409",
   "metadata": {},
   "outputs": [
    {
     "data": {
      "text/plain": [
       "array([[ 1,  2,  3,  4],\n",
       "       [ 5,  6,  7,  8],\n",
       "       [ 9, 10, 11, 12]])"
      ]
     },
     "execution_count": 76,
     "metadata": {},
     "output_type": "execute_result"
    }
   ],
   "source": [
    "arr=arr.reshape(3,4)\n",
    "arr"
   ]
  },
  {
   "cell_type": "code",
   "execution_count": 80,
   "id": "e4032e10-6ef3-4fd6-9236-6fa4f523b247",
   "metadata": {},
   "outputs": [
    {
     "data": {
      "text/plain": [
       "array([10, 11])"
      ]
     },
     "execution_count": 80,
     "metadata": {},
     "output_type": "execute_result"
    }
   ],
   "source": [
    "arr[2,1:3]"
   ]
  },
  {
   "cell_type": "markdown",
   "id": "3a6570b1-86f8-487b-9611-c00ff346c7c9",
   "metadata": {},
   "source": [
    "## Search and Sort"
   ]
  },
  {
   "cell_type": "code",
   "execution_count": 110,
   "id": "f308c31d-6645-4bbf-83de-80947b52b2e0",
   "metadata": {},
   "outputs": [],
   "source": [
    "arr=np.array([1,3,4,2,18,4,7,1,9,10,11,12])"
   ]
  },
  {
   "cell_type": "code",
   "execution_count": 103,
   "id": "653ee806-171c-4bc1-a280-a567ffb33a99",
   "metadata": {},
   "outputs": [
    {
     "data": {
      "text/plain": [
       "(array([2, 5]),)"
      ]
     },
     "execution_count": 103,
     "metadata": {},
     "output_type": "execute_result"
    }
   ],
   "source": [
    "n=np.where(arr==4)\n",
    "n"
   ]
  },
  {
   "cell_type": "code",
   "execution_count": 106,
   "id": "37bf871c-dc01-4684-8d83-b6351e62bf46",
   "metadata": {},
   "outputs": [
    {
     "data": {
      "text/plain": [
       "(array([ 1,  2,  3,  5,  7,  9, 11]),)"
      ]
     },
     "execution_count": 106,
     "metadata": {},
     "output_type": "execute_result"
    }
   ],
   "source": [
    "n=np.where(arr%2==0)\n",
    "n"
   ]
  },
  {
   "cell_type": "code",
   "execution_count": 111,
   "id": "6c7fe8c9-ca36-4bac-9cc5-305579e66466",
   "metadata": {},
   "outputs": [
    {
     "data": {
      "text/plain": [
       "array([ 1,  1,  2,  3,  4,  4,  7,  9, 10, 11, 12, 18])"
      ]
     },
     "execution_count": 111,
     "metadata": {},
     "output_type": "execute_result"
    }
   ],
   "source": [
    "np.sort(arr)"
   ]
  }
 ],
 "metadata": {
  "kernelspec": {
   "display_name": "Python 3 (ipykernel)",
   "language": "python",
   "name": "python3"
  },
  "language_info": {
   "codemirror_mode": {
    "name": "ipython",
    "version": 3
   },
   "file_extension": ".py",
   "mimetype": "text/x-python",
   "name": "python",
   "nbconvert_exporter": "python",
   "pygments_lexer": "ipython3",
   "version": "3.10.12"
  }
 },
 "nbformat": 4,
 "nbformat_minor": 5
}
